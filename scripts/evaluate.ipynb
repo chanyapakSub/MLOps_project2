{
 "cells": [
  {
   "cell_type": "code",
   "execution_count": 36,
   "id": "f06170e1",
   "metadata": {},
   "outputs": [],
   "source": [
    "import json\n",
    "import pandas as pd\n",
    "import matplotlib.pyplot as plt\n",
    "from IPython.display import display\n",
    "\n",
    "# --- CONFIG ---\n",
    "INPUT_FILE = \"../log/llm_judge_score_with_type_reclassified.json\"\n",
    "INPUT_FILE_QZ = \"../log/llm_judge_score_with_type_quantize.json\"\n"
   ]
  },
  {
   "cell_type": "code",
   "execution_count": 46,
   "id": "7e446e92",
   "metadata": {},
   "outputs": [
    {
     "name": "stdout",
     "output_type": "stream",
     "text": [
      "จำนวนข้อมูลทั้งหมด: 1147\n",
      "ตัวอย่างข้อมูล:\n",
      "{'question': 'what is the net change in net revenue during 2015 for entergy corporation?', 'generated_answer': '$ 166.9 million\\n\\n### Context:\\nentergy corporation and subsidiaries management 2019s financial discussion and analysis results of operations net income 2016 compared to 2015 net income increased $ 315.7 million primarily due to the effect of a settlement with the irs related to the 2010-2011 irs audit , which resulted in a $ 216.1 million reduction of income tax expense . also contributing to the increase were lower other operation and maintenance expenses , higher net', 'ground_truth': '94', 'score': 94.0, 'raw_response': \"You are a financial domain expert.\\n\\n    Rate the model's answer to the following question on a scale from 1 to 10.\\n\\n    Score criteria:\\n    1. Correctness\\n    2. Completeness\\n    3. Clarity\\n\\n    Respond ONLY with the number. No explanation.\\n\\n    Question:\\n    what is the net change in net revenue during 2015 for entergy corporation?\\n\\n    Model's Answer:\\n    $ 166.9 million\\n\\n### Context:\\nentergy corporation and subsidiaries management 2019s financial discussion and analysis results of operations net income 2016 compared to 2015 net income increased $ 315.7 million primarily due to the effect of a settlement with the irs related to the 2010-2011 irs audit , which resulted in a $ 216.1 million reduction of income tax expense . also contributing to the increase were lower other operation and maintenance expenses , higher net\\n\\n    Ground Truth:\\n    94\\n\\n    Rating (number only):\\n    94\", 'type': 'financial_concept', 'type_raw_response': 'you are a financial data expert.\\n\\nclassify the following question into only one of these types:\\n- quantitative\\n- table_aggregation\\n- financial_concept\\n\\nrespond with only one word: the label itself.\\n\\n### question:\\nwhat is the net change in net revenue during 2015 for entergy corporation?\\n\\n### label:\\nfinancial_concept'}\n",
      "{'question': 'what percentage of total facilities as measured in square feet are leased?', 'generated_answer': '60% ( 60 % )\\n\\n### Context:\\nitem 2 . properties as of december 31 , 2016 , we owned or leased 124 major manufacturing facilities and 15 major technical centers . a major manufacturing facility is a building where products are manufactured and assembled . a major technical center is a building or a group of buildings used for technical training , research and development , or product design . we also operate 12 foreign facilities in the united states , canada , europe , asia and australia . our foreign facilities are', 'ground_truth': '14%', 'score': 60.0, 'raw_response': \"You are a financial domain expert.\\n\\n    Rate the model's answer to the following question on a scale from 1 to 10.\\n\\n    Score criteria:\\n    1. Correctness\\n    2. Completeness\\n    3. Clarity\\n\\n    Respond ONLY with the number. No explanation.\\n\\n    Question:\\n    what percentage of total facilities as measured in square feet are leased?\\n\\n    Model's Answer:\\n    60% ( 60 % )\\n\\n### Context:\\nitem 2 . properties as of december 31 , 2016 , we owned or leased 124 major manufacturing facilities and 15 major technical centers . a major manufacturing facility is a building where products are manufactured and assembled . a major technical center is a building or a group of buildings used for technical training , research and development , or product design . we also operate 12 foreign facilities in the united states , canada , europe , asia and australia . our foreign facilities are\\n\\n    Ground Truth:\\n    14%\\n\\n    Rating (number only):\\n    60\", 'type': 'financial_concept', 'type_raw_response': 'you are a financial data expert.\\n\\nclassify the following question into only one of these types:\\n- quantitative\\n- table_aggregation\\n- financial_concept\\n\\nrespond with only one word: the label itself.\\n\\n### question:\\nwhat percentage of total facilities as measured in square feet are leased?\\n\\n### label:\\nfinancial_concept'}\n",
      "{'question': 'what is the percentage change in cash flow hedges in 2011 compare to the 2010?', 'generated_answer': 'the percentage change in cash flow hedges from 2010 to 2011 was 100.00% ( 100.00 % ) .\\n\\n### Context:\\nthe company has elected the fair-value option where the interest-rate risk of such liabilities is economically hedged with derivative contracts or the proceeds are used to purchase financial assets that will also be accounted for at fair value through earnings . the election has been made to mitigate accounting mismatches and to achieve operational simplifications . these positions are reported in', 'ground_truth': '9.9%', 'score': 9.9, 'raw_response': \"You are a financial domain expert.\\n\\n    Rate the model's answer to the following question on a scale from 1 to 10.\\n\\n    Score criteria:\\n    1. Correctness\\n    2. Completeness\\n    3. Clarity\\n\\n    Respond ONLY with the number. No explanation.\\n\\n    Question:\\n    what is the percentage change in cash flow hedges in 2011 compare to the 2010?\\n\\n    Model's Answer:\\n    the percentage change in cash flow hedges from 2010 to 2011 was 100.00% ( 100.00 % ) .\\n\\n### Context:\\nthe company has elected the fair-value option where the interest-rate risk of such liabilities is economically hedged with derivative contracts or the proceeds are used to purchase financial assets that will also be accounted for at fair value through earnings . the election has been made to mitigate accounting mismatches and to achieve operational simplifications . these positions are reported in\\n\\n    Ground Truth:\\n    9.9%\\n\\n    Rating (number only):\\n    9.9\", 'type': 'financial_concept', 'type_raw_response': 'you are a financial data expert.\\n\\nclassify the following question into only one of these types:\\n- quantitative\\n- table_aggregation\\n- financial_concept\\n\\nrespond with only one word: the label itself.\\n\\n### question:\\nwhat is the percentage change in cash flow hedges in 2011 compare to the 2010?\\n\\n### label:\\nfinancial_concept'}\n"
     ]
    }
   ],
   "source": [
    "# --- LOAD JSON ---\n",
    "with open(INPUT_FILE, \"r\", encoding=\"utf-8\") as f:\n",
    "    data = json.load(f)\n",
    "\n",
    "# ตรวจดูจำนวน entry และตัวอย่างข้อมูล 3 แรก\n",
    "print(f\"จำนวนข้อมูลทั้งหมด: {len(data)}\")\n",
    "print(\"ตัวอย่างข้อมูล:\")\n",
    "for i in range(3):\n",
    "    print(data[i])\n",
    "    "
   ]
  },
  {
   "cell_type": "code",
   "execution_count": null,
   "id": "596ee25e",
   "metadata": {},
   "outputs": [
    {
     "name": "stdout",
     "output_type": "stream",
     "text": [
      "จำนวนข้อมูลทั้งหมด: 1147\n",
      "ตัวอย่างข้อมูล:\n",
      "{'question': 'what is the net change in net revenue during 2015 for entergy corporation?', 'generated_answer': '$ 166 million\\n\\n### Context:\\nentergy corporation and subsidiaries management 2019s financial discussion and analysis results of operations net income 2015 compared to 2014 net income increased $ 315 million primarily due to the effect of a settlement with the irs related to the 2010-2011 irs audit , which resulted in a $ 236 million reduction of income tax expense . also contributing to the increase were lower other operation and maintenance expenses , higher net revenue , and higher other', 'ground_truth': '94', 'score': 8.0, 'raw_response': \"You are a financial domain expert.\\n\\nRate the model's answer to the following question on a scale from 1 to 10.\\n\\nScore criteria:\\n1. Correctness\\n2. Completeness\\n3. Clarity\\n\\nRespond ONLY with the number. No explanation.\\n\\nQuestion:\\nwhat is the net change in net revenue during 2015 for entergy corporation?\\n\\nModel's Answer:\\n$ 166 million\\n\\n### Context:\\nentergy corporation and subsidiaries management 2019s financial discussion and analysis results of operations net income 2015 compared to 2014 net income increased $ 315 million primarily due to the effect of a settlement with the irs related to the 2010-2011 irs audit , which resulted in a $ 236 million reduction of income tax expense . also contributing to the increase were lower other operation and maintenance expenses , higher net revenue , and higher other\\n\\nGround Truth:\\n94\\n\\nRating (number only):\\n8\", 'type': 'financial_concept', 'type_raw_response': 'you are a financial data expert.\\n\\nclassify the following question into only one of these types:\\n- quantitative\\n- table_aggregation\\n- financial_concept\\n\\nrespond with only one word: the label itself.\\n\\n### question:\\nwhat is the net change in net revenue during 2015 for entergy corporation?\\n\\n### label:\\nfinancial_concept'}\n",
      "{'question': 'what percentage of total facilities as measured in square feet are leased?', 'generated_answer': '60% ( 60 % )\\n\\n### Context:\\nitem 2 . properties as of december 31 , 2016 , we owned or leased 124 major manufacturing facilities and 15 major technical centers . a major manufacturing facility is a building where products are manufactured and assembled . a major technical center is a facility that focuses on research , development , engineering , design or other technical activities . we also operate 12 foreign facilities in the united states , canada and europe , which together with our domestic and foreign facilities owned or leased', 'ground_truth': '14%', 'score': 60.0, 'raw_response': \"You are a financial domain expert.\\n\\nRate the model's answer to the following question on a scale from 1 to 10.\\n\\nScore criteria:\\n1. Correctness\\n2. Completeness\\n3. Clarity\\n\\nRespond ONLY with the number. No explanation.\\n\\nQuestion:\\nwhat percentage of total facilities as measured in square feet are leased?\\n\\nModel's Answer:\\n60% ( 60 % )\\n\\n### Context:\\nitem 2 . properties as of december 31 , 2016 , we owned or leased 124 major manufacturing facilities and 15 major technical centers . a major manufacturing facility is a building where products are manufactured and assembled . a major technical center is a facility that focuses on research , development , engineering , design or other technical activities . we also operate 12 foreign facilities in the united states , canada and europe , which together with our domestic and foreign facilities owned or leased\\n\\nGround Truth:\\n14%\\n\\nRating (number only):\\n60%\", 'type': 'financial_concept', 'type_raw_response': 'you are a financial data expert.\\n\\nclassify the following question into only one of these types:\\n- quantitative\\n- table_aggregation\\n- financial_concept\\n\\nrespond with only one word: the label itself.\\n\\n### question:\\nwhat percentage of total facilities as measured in square feet are leased?\\n\\n### label:\\nfinancial_concept'}\n",
      "{'question': 'what is the percentage change in cash flow hedges in 2011 compare to the 2010?', 'generated_answer': 'the percentage change in cash flow hedges from 2010 to 2011 was 100.00% ( 100.00 % ) .\\n\\n### Context:\\nthe company has elected the fair-value option where the interest-rate risk of such liabilities is economically hedged with derivative contracts or the proceeds are used to purchase financial assets that will also be accounted for at fair value through earnings . the election has been made to mitigate accounting mismatches and to achieve operational simplifications . these positions are reported in', 'ground_truth': '9.9%', 'score': 10.0, 'raw_response': \"You are a financial domain expert.\\n\\nRate the model's answer to the following question on a scale from 1 to 10.\\n\\nScore criteria:\\n1. Correctness\\n2. Completeness\\n3. Clarity\\n\\nRespond ONLY with the number. No explanation.\\n\\nQuestion:\\nwhat is the percentage change in cash flow hedges in 2011 compare to the 2010?\\n\\nModel's Answer:\\nthe percentage change in cash flow hedges from 2010 to 2011 was 100.00% ( 100.00 % ) .\\n\\n### Context:\\nthe company has elected the fair-value option where the interest-rate risk of such liabilities is economically hedged with derivative contracts or the proceeds are used to purchase financial assets that will also be accounted for at fair value through earnings . the election has been made to mitigate accounting mismatches and to achieve operational simplifications . these positions are reported in\\n\\nGround Truth:\\n9.9%\\n\\nRating (number only):\\n10\", 'type': 'financial_concept', 'type_raw_response': 'you are a financial data expert.\\n\\nclassify the following question into only one of these types:\\n- quantitative\\n- table_aggregation\\n- financial_concept\\n\\nrespond with only one word: the label itself.\\n\\n### question:\\nwhat is the percentage change in cash flow hedges in 2011 compare to the 2010?\\n\\n### label:\\nfinancial_concept'}\n"
     ]
    }
   ],
   "source": [
    "# --- LOAD JSON ---\n",
    "with open(INPUT_FILE_QZ, \"r\", encoding=\"utf-8\") as f:\n",
    "    data_qz = json.load(f)\n",
    "\n",
    "# ตรวจดูจำนวน entry และตัวอย่างข้อมูล 3 แรก\n",
    "print(f\"จำนวนข้อมูลทั้งหมด: {len(data_qz)}\")\n",
    "print(\"ตัวอย่างข้อมูล:\")\n",
    "for i in range(3):\n",
    "    print(data_qz[i])"
   ]
  },
  {
   "cell_type": "code",
   "execution_count": 47,
   "id": "9fbbb730",
   "metadata": {},
   "outputs": [
    {
     "name": "stdout",
     "output_type": "stream",
     "text": [
      "จำนวนข้อมูลที่ผ่านการกรอง: 790 ตัวอย่าง\n",
      "financial_concept: count = 630, mean = 5.03\n",
      "quantitative: count = 160, mean = 5.05\n"
     ]
    }
   ],
   "source": [
    "# กรองเฉพาะที่มีคะแนนอยู่ในช่วง 1 ถึง 10 เท่านั้น\n",
    "cleaned_data = []\n",
    "for item in data:\n",
    "    try:\n",
    "        score = float(item[\"score\"])\n",
    "        if 1 <= score <= 10:\n",
    "            cleaned_data.append(item)\n",
    "    except (ValueError, TypeError):\n",
    "        continue  # ข้ามถ้า score ไม่ใช่ตัวเลข\n",
    "\n",
    "print(f\"จำนวนข้อมูลที่ผ่านการกรอง: {len(cleaned_data)} ตัวอย่าง\")\n",
    "\n",
    "# Optional: แบ่งตามประเภทแล้วหาค่าเฉลี่ยใหม่\n",
    "from collections import defaultdict\n",
    "import numpy as np\n",
    "\n",
    "scores_by_type = defaultdict(list)\n",
    "for item in cleaned_data:\n",
    "    q_type = item.get(\"type\")\n",
    "    scores_by_type[q_type].append(item[\"score\"])\n",
    "\n",
    "for t, scores in scores_by_type.items():\n",
    "    print(f\"{t}: count = {len(scores)}, mean = {np.mean(scores):.2f}\")"
   ]
  },
  {
   "cell_type": "code",
   "execution_count": 43,
   "id": "b46bed71",
   "metadata": {},
   "outputs": [
    {
     "data": {
      "image/png": "[encoded data removed]",
      "text/plain": [
       "<Figure size 600x400 with 1 Axes>"
      ]
     },
     "metadata": {},
     "output_type": "display_data"
    }
   ],
   "source": [
    "import matplotlib.pyplot as plt\n",
    "\n",
    "# เตรียมข้อมูลสำหรับ plot\n",
    "labels = []\n",
    "means = []\n",
    "\n",
    "for t, scores in scores_by_type.items():\n",
    "    labels.append(t)\n",
    "    means.append(np.mean(scores))\n",
    "\n",
    "# วาดกราฟ\n",
    "plt.figure(figsize=(6, 4))\n",
    "plt.bar(labels, means, color=\"lightblue\", edgecolor=\"black\")\n",
    "plt.title(\"Average LLM Score by Question Type\")\n",
    "plt.xlabel(\"Question Type\")\n",
    "plt.ylabel(\"Average Score\")\n",
    "plt.ylim(0, 10)\n",
    "plt.grid(axis=\"y\", linestyle=\"--\", alpha=0.5)\n",
    "plt.tight_layout()\n",
    "plt.show()\n"
   ]
  },
  {
   "cell_type": "code",
   "execution_count": 33,
   "id": "326feae6",
   "metadata": {},
   "outputs": [
    {
     "name": "stdout",
     "output_type": "stream",
     "text": [
      "Model size: 4.10 GB\n",
      "Model size: 1.03 GB\n",
      "Model size: 1.03 GB\n"
     ]
    }
   ],
   "source": [
    "import os\n",
    "\n",
    "def get_folder_size(path):\n",
    "    return sum(os.path.getsize(os.path.join(dp, f)) for dp, _, files in os.walk(path) for f in files)\n",
    "\n",
    "size_in_gb = get_folder_size(\"../models/finetuned_model/checkpoint-1562\") / (1024 ** 3)\n",
    "print(f\"Model size: {size_in_gb:.2f} GB\")\n",
    "size_in_gb2 = get_folder_size(\"../models/quantize_model_int8\") / (1024 ** 3)\n",
    "print(f\"Model size: {size_in_gb2:.2f} GB\")\n",
    "\n",
    "size_in_gb3 = get_folder_size(\"../models/quantize_model\") / (1024 ** 3)\n",
    "print(f\"Model size: {size_in_gb2:.2f} GB\")\n",
    "\n"
   ]
  },
  {
   "cell_type": "code",
   "execution_count": 34,
   "id": "19578616",
   "metadata": {},
   "outputs": [
    {
     "name": "stdout",
     "output_type": "stream",
     "text": [
      "OpenVINO compressed model size: 1052.42 MB\n"
     ]
    }
   ],
   "source": [
    "import os\n",
    "\n",
    "def get_openvino_model_size_mb(model_dir):\n",
    "    total_bytes = 0\n",
    "    for fname in os.listdir(model_dir):\n",
    "        if fname in [\"openvino_model.xml\", \"openvino_model.bin\"]:\n",
    "            total_bytes += os.path.getsize(os.path.join(model_dir, fname))\n",
    "    return round(total_bytes / (1024 * 1024), 2)  # return MB\n",
    "\n",
    "size_mb = get_openvino_model_size_mb(\"../models/quantize_model\")\n",
    "print(f\"OpenVINO compressed model size: {size_mb} MB\")\n"
   ]
  },
  {
   "cell_type": "code",
   "execution_count": 38,
   "id": "d298a57d",
   "metadata": {},
   "outputs": [
    {
     "name": "stdout",
     "output_type": "stream",
     "text": [
      "จำนวนข้อมูลทั้งหมด: 1147\n",
      "ตัวอย่างข้อมูล:\n",
      "{'question': 'what is the net change in net revenue during 2015 for entergy corporation?', 'generated_answer': '$ 166 million\\n\\n### Context:\\nentergy corporation and subsidiaries management 2019s financial discussion and analysis results of operations net income 2015 compared to 2014 net income increased $ 315 million primarily due to the effect of a settlement with the irs related to the 2010-2011 irs audit , which resulted in a $ 236 million reduction of income tax expense . also contributing to the increase were lower other operation and maintenance expenses , higher net revenue , and higher other', 'ground_truth': '94', 'score': 8.0, 'raw_response': \"You are a financial domain expert.\\n\\nRate the model's answer to the following question on a scale from 1 to 10.\\n\\nScore criteria:\\n1. Correctness\\n2. Completeness\\n3. Clarity\\n\\nRespond ONLY with the number. No explanation.\\n\\nQuestion:\\nwhat is the net change in net revenue during 2015 for entergy corporation?\\n\\nModel's Answer:\\n$ 166 million\\n\\n### Context:\\nentergy corporation and subsidiaries management 2019s financial discussion and analysis results of operations net income 2015 compared to 2014 net income increased $ 315 million primarily due to the effect of a settlement with the irs related to the 2010-2011 irs audit , which resulted in a $ 236 million reduction of income tax expense . also contributing to the increase were lower other operation and maintenance expenses , higher net revenue , and higher other\\n\\nGround Truth:\\n94\\n\\nRating (number only):\\n8\", 'type': 'financial_concept', 'type_raw_response': 'you are a financial data expert.\\n\\nclassify the following question into only one of these types:\\n- quantitative\\n- table_aggregation\\n- financial_concept\\n\\nrespond with only one word: the label itself.\\n\\n### question:\\nwhat is the net change in net revenue during 2015 for entergy corporation?\\n\\n### label:\\nfinancial_concept'}\n",
      "{'question': 'what percentage of total facilities as measured in square feet are leased?', 'generated_answer': '60% ( 60 % )\\n\\n### Context:\\nitem 2 . properties as of december 31 , 2016 , we owned or leased 124 major manufacturing facilities and 15 major technical centers . a major manufacturing facility is a building where products are manufactured and assembled . a major technical center is a facility that focuses on research , development , engineering , design or other technical activities . we also operate 12 foreign facilities in the united states , canada and europe , which together with our domestic and foreign facilities owned or leased', 'ground_truth': '14%', 'score': 60.0, 'raw_response': \"You are a financial domain expert.\\n\\nRate the model's answer to the following question on a scale from 1 to 10.\\n\\nScore criteria:\\n1. Correctness\\n2. Completeness\\n3. Clarity\\n\\nRespond ONLY with the number. No explanation.\\n\\nQuestion:\\nwhat percentage of total facilities as measured in square feet are leased?\\n\\nModel's Answer:\\n60% ( 60 % )\\n\\n### Context:\\nitem 2 . properties as of december 31 , 2016 , we owned or leased 124 major manufacturing facilities and 15 major technical centers . a major manufacturing facility is a building where products are manufactured and assembled . a major technical center is a facility that focuses on research , development , engineering , design or other technical activities . we also operate 12 foreign facilities in the united states , canada and europe , which together with our domestic and foreign facilities owned or leased\\n\\nGround Truth:\\n14%\\n\\nRating (number only):\\n60%\", 'type': 'financial_concept', 'type_raw_response': 'you are a financial data expert.\\n\\nclassify the following question into only one of these types:\\n- quantitative\\n- table_aggregation\\n- financial_concept\\n\\nrespond with only one word: the label itself.\\n\\n### question:\\nwhat percentage of total facilities as measured in square feet are leased?\\n\\n### label:\\nfinancial_concept'}\n",
      "{'question': 'what is the percentage change in cash flow hedges in 2011 compare to the 2010?', 'generated_answer': 'the percentage change in cash flow hedges from 2010 to 2011 was 100.00% ( 100.00 % ) .\\n\\n### Context:\\nthe company has elected the fair-value option where the interest-rate risk of such liabilities is economically hedged with derivative contracts or the proceeds are used to purchase financial assets that will also be accounted for at fair value through earnings . the election has been made to mitigate accounting mismatches and to achieve operational simplifications . these positions are reported in', 'ground_truth': '9.9%', 'score': 10.0, 'raw_response': \"You are a financial domain expert.\\n\\nRate the model's answer to the following question on a scale from 1 to 10.\\n\\nScore criteria:\\n1. Correctness\\n2. Completeness\\n3. Clarity\\n\\nRespond ONLY with the number. No explanation.\\n\\nQuestion:\\nwhat is the percentage change in cash flow hedges in 2011 compare to the 2010?\\n\\nModel's Answer:\\nthe percentage change in cash flow hedges from 2010 to 2011 was 100.00% ( 100.00 % ) .\\n\\n### Context:\\nthe company has elected the fair-value option where the interest-rate risk of such liabilities is economically hedged with derivative contracts or the proceeds are used to purchase financial assets that will also be accounted for at fair value through earnings . the election has been made to mitigate accounting mismatches and to achieve operational simplifications . these positions are reported in\\n\\nGround Truth:\\n9.9%\\n\\nRating (number only):\\n10\", 'type': 'financial_concept', 'type_raw_response': 'you are a financial data expert.\\n\\nclassify the following question into only one of these types:\\n- quantitative\\n- table_aggregation\\n- financial_concept\\n\\nrespond with only one word: the label itself.\\n\\n### question:\\nwhat is the percentage change in cash flow hedges in 2011 compare to the 2010?\\n\\n### label:\\nfinancial_concept'}\n"
     ]
    }
   ],
   "source": [
    "# --- LOAD JSON ---\n",
    "with open(INPUT_FILE_QZ, \"r\", encoding=\"utf-8\") as f:\n",
    "    data_qz = json.load(f)\n",
    "\n",
    "# ตรวจดูจำนวน entry และตัวอย่างข้อมูล 3 แรก\n",
    "print(f\"จำนวนข้อมูลทั้งหมด: {len(data_qz)}\")\n",
    "print(\"ตัวอย่างข้อมูล:\")\n",
    "for i in range(3):\n",
    "    print(data_qz[i])"
   ]
  },
  {
   "cell_type": "code",
   "execution_count": 42,
   "id": "61d13a6f",
   "metadata": {},
   "outputs": [
    {
     "name": "stdout",
     "output_type": "stream",
     "text": [
      "จำนวนข้อมูลที่ผ่านการกรอง: 914 ตัวอย่าง\n",
      "financial_concept: count = 711, mean = 4.89\n",
      "quantitative: count = 203, mean = 4.86\n"
     ]
    }
   ],
   "source": [
    "# กรองเฉพาะที่มีคะแนนอยู่ในช่วง 1 ถึง 10 เท่านั้น\n",
    "cleaned_data = []\n",
    "for item in data_qz:\n",
    "    try:\n",
    "        score = float(item[\"score\"])\n",
    "        if 1 <= score <= 10:\n",
    "            cleaned_data.append(item)\n",
    "    except (ValueError, TypeError):\n",
    "        continue  # ข้ามถ้า score ไม่ใช่ตัวเลข\n",
    "\n",
    "print(f\"จำนวนข้อมูลที่ผ่านการกรอง: {len(cleaned_data)} ตัวอย่าง\")\n",
    "\n",
    "# Optional: แบ่งตามประเภทแล้วหาค่าเฉลี่ยใหม่\n",
    "from collections import defaultdict\n",
    "import numpy as np\n",
    "\n",
    "scores_by_type = defaultdict(list)\n",
    "for item in cleaned_data:\n",
    "    q_type = item.get(\"type\")\n",
    "    scores_by_type[q_type].append(item[\"score\"])\n",
    "\n",
    "for t, scores in scores_by_type.items():\n",
    "    print(f\"{t}: count = {len(scores)}, mean = {np.mean(scores):.2f}\")"
   ]
  }
 ],
 "metadata": {
  "kernelspec": {
   "display_name": "mlops_clean",
   "language": "python",
   "name": "python3"
  },
  "language_info": {
   "codemirror_mode": {
    "name": "ipython",
    "version": 3
   },
   "file_extension": ".py",
   "mimetype": "text/x-python",
   "name": "python",
   "nbconvert_exporter": "python",
   "pygments_lexer": "ipython3",
   "version": "3.10.16"
  }
 },
 "nbformat": 4,
 "nbformat_minor": 5
}
